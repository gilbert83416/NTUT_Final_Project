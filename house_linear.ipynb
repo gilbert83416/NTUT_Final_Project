{
  "nbformat": 4,
  "nbformat_minor": 0,
  "metadata": {
    "colab": {
      "name": "house_linear.ipynb",
      "private_outputs": true,
      "provenance": [],
      "include_colab_link": true
    },
    "kernelspec": {
      "name": "python3",
      "display_name": "Python 3"
    }
  },
  "cells": [
    {
      "cell_type": "markdown",
      "metadata": {
        "id": "view-in-github",
        "colab_type": "text"
      },
      "source": [
        "<a href=\"https://colab.research.google.com/github/gilbert83416/NTUT_Final_Project/blob/main/house_linear.ipynb\" target=\"_parent\"><img src=\"https://colab.research.google.com/assets/colab-badge.svg\" alt=\"Open In Colab\"/></a>"
      ]
    },
    {
      "cell_type": "code",
      "metadata": {
        "id": "4-EU00pfPHuy"
      },
      "source": [
        "from urllib.request import urlretrieve\n",
        "url = \"https://raw.githubusercontent.com/gilbert83416/NTUT_Final_Project/main/Taipei_District_data/%E4%B8%AD%E5%B1%B1%E6%A9%9F%E8%83%BD_google_data.csv\"\n",
        "urlretrieve(url, \"中山機能_google_data.csv\")\n",
        "url = \"https://raw.githubusercontent.com/gilbert83416/NTUT_Final_Project/main/Taipei_District_data/%E4%BF%A1%E7%BE%A9%E6%A9%9F%E8%83%BD_google_data.csv\"\n",
        "urlretrieve(url, \"信義機能_google_data.csv\")\n",
        "url = \"https://raw.githubusercontent.com/gilbert83416/NTUT_Final_Project/main/Taipei_District_data/%E5%85%A7%E6%B9%96%E6%A9%9F%E8%83%BD_google_data.csv\"\n",
        "urlretrieve(url, \"內湖機能_google_data.csv\")\n",
        "url = \"https://raw.githubusercontent.com/gilbert83416/NTUT_Final_Project/main/Taipei_District_data/%E5%A3%AB%E6%9E%97%E6%A9%9F%E8%83%BD_google_data.csv\"\n",
        "urlretrieve(url, \"士林機能_google_data.csv\")\n",
        "url = \"https://raw.githubusercontent.com/gilbert83416/NTUT_Final_Project/main/Taipei_District_data/%E5%A4%A7%E5%90%8C%E6%A9%9F%E8%83%BD_google_data.csv\"\n",
        "urlretrieve(url, \"大同機能_google_data.csv\")\n",
        "url = \"https://raw.githubusercontent.com/gilbert83416/NTUT_Final_Project/main/Taipei_District_data/%E5%A4%A7%E5%AE%89%E6%A9%9F%E8%83%BD_google_data.csv\"\n",
        "urlretrieve(url, \"大安機能_google_data.csv\")\n",
        "url = \"https://raw.githubusercontent.com/gilbert83416/NTUT_Final_Project/main/Taipei_District_data/%E6%96%87%E5%B1%B1%E6%A9%9F%E8%83%BD_google_data.csv\"\n",
        "urlretrieve(url, \"文山機能_google_data.csv\")\n",
        "url = \"https://raw.githubusercontent.com/gilbert83416/NTUT_Final_Project/main/Taipei_District_data/%E6%9D%BE%E5%B1%B1%E6%A9%9F%E8%83%BD_google_data.csv\"\n",
        "urlretrieve(url, \"松山機能_google_data.csv\")\n",
        "url = \"https://raw.githubusercontent.com/gilbert83416/NTUT_Final_Project/main/Taipei_District_data/%E8%90%AC%E8%8F%AF%E6%A9%9F%E8%83%BD_google_data.csv\"\n",
        "urlretrieve(url, \"萬華機能_google_data.csv\")"
      ],
      "execution_count": null,
      "outputs": []
    },
    {
      "cell_type": "code",
      "metadata": {
        "id": "N7Ia43E6P49B"
      },
      "source": [
        "import pandas as pd\n",
        "\n",
        "Zhongshan = pd.read_csv(\"中山機能_google_data.csv\", encoding = \"utf-8\")\n",
        "Xinyi = pd.read_csv(\"信義機能_google_data.csv\", encoding = \"utf-8\")\n",
        "Neihu = pd.read_csv(\"內湖機能_google_data.csv\", encoding = \"utf-8\")\n",
        "Shilin = pd.read_csv(\"士林機能_google_data.csv\", encoding = \"utf-8\")\n",
        "Datong = pd.read_csv(\"大同機能_google_data.csv\", encoding = \"utf-8\")\n",
        "Daan = pd.read_csv(\"大安機能_google_data.csv\", encoding = \"utf-8\")\n",
        "Wenshan = pd.read_csv(\"文山機能_google_data.csv\", encoding = \"utf-8\")\n",
        "Songshan = pd.read_csv(\"松山機能_google_data.csv\", encoding = \"utf-8\")\n",
        "Wanhua = pd.read_csv(\"萬華機能_google_data.csv\", encoding = \"utf-8\")\n"
      ],
      "execution_count": null,
      "outputs": []
    },
    {
      "cell_type": "code",
      "metadata": {
        "id": "nbnyamOWPfrA"
      },
      "source": [
        "datas = pd.concat([Zhongshan, Xinyi, Neihu, Shilin, Datong,Daan,Wenshan,Songshan,Wanhua], axis = 0, ignore_index = True)\n",
        "datas"
      ],
      "execution_count": null,
      "outputs": []
    },
    {
      "cell_type": "code",
      "metadata": {
        "id": "AJs2C4beQSO6"
      },
      "source": [
        "datas = datas.drop(['Unnamed: 0'], axis= 1)\n",
        "datas = datas.drop(['土地區段位置建物區段門牌'], axis= 1)\n",
        "datas = datas.drop(['建物移轉總面積平方公尺'], axis= 1)\n",
        "datas = datas.drop(['總價元'], axis= 1)\n",
        "datas = datas.drop(['單價元平方公尺'], axis= 1)\n",
        "datas = datas.drop(['編號'], axis= 1)\n",
        "datas = datas.drop(['交易年份'], axis= 1)\n",
        "datas = datas.drop(['土地區段位置建物區段門牌經度'], axis= 1)\n",
        "datas = datas.drop(['土地區段位置建物區段門牌緯度'], axis= 1)\n",
        "datas"
      ],
      "execution_count": null,
      "outputs": []
    },
    {
      "cell_type": "code",
      "metadata": {
        "id": "sPB_wII4vfOk"
      },
      "source": [
        "train_df = datas[:10000]\n",
        "train_df"
      ],
      "execution_count": null,
      "outputs": []
    },
    {
      "cell_type": "code",
      "metadata": {
        "id": "JPPldwjzv2Ob"
      },
      "source": [
        "test_df = datas[10000:].drop(['單價元/坪'], axis = 1)\n",
        "test_df2 = datas[10000:]\n",
        "test_df"
      ],
      "execution_count": null,
      "outputs": []
    },
    {
      "cell_type": "code",
      "metadata": {
        "id": "vYhZ-uxswCNy"
      },
      "source": [
        "datas = datas.drop(['單價元/坪'], axis=1)"
      ],
      "execution_count": null,
      "outputs": []
    },
    {
      "cell_type": "code",
      "metadata": {
        "id": "q4-38uNXP__u"
      },
      "source": [
        "import numpy as np\n",
        "from scipy.stats import skew\n",
        "from scipy.stats import boxcox_normmax\n",
        "from scipy.special import boxcox1p"
      ],
      "execution_count": null,
      "outputs": []
    },
    {
      "cell_type": "code",
      "metadata": {
        "id": "VLthu3ekQvOX"
      },
      "source": [
        "# y = data['單價元/坪'].iloc[:1700].astype(int)\n",
        "# # .ilco 取 column [1st row, 2nd row...]\n",
        "# x = data.iloc[:1700]\n",
        "# predict = data.iloc[1700:]\n",
        "# print(y)\n",
        "# print(x)\n",
        "# print(predict)"
      ],
      "execution_count": null,
      "outputs": []
    },
    {
      "cell_type": "code",
      "metadata": {
        "id": "DIM4-6k7QtyH"
      },
      "source": [
        "import matplotlib.pyplot as plt\n",
        "import seaborn as sns\n",
        "%matplotlib inline\n",
        "y = train_df['單價元/坪']\n",
        "\n",
        "print(\"skew:\", skew(y))\n",
        "print(\"lambda:\", boxcox_normmax(1 + y))\n",
        "sns.distplot(y)\n",
        "plt.xlabel('sales price/ping')"
      ],
      "execution_count": null,
      "outputs": []
    },
    {
      "cell_type": "code",
      "metadata": {
        "id": "xqhewYeTXwji"
      },
      "source": [
        "x = datas.iloc[10000:]\n",
        "x"
      ],
      "execution_count": null,
      "outputs": []
    },
    {
      "cell_type": "code",
      "metadata": {
        "id": "ap9V9rIORhNX"
      },
      "source": [
        "y = train_df['單價元/坪']\n",
        "y_train_log1p = np.log1p(y)\n",
        "print(\"skew:\", skew(y_train_log1p))\n",
        "sns.distplot(y_train_log1p)\n",
        "plt.xlabel('sales price/ping')"
      ],
      "execution_count": null,
      "outputs": []
    },
    {
      "cell_type": "code",
      "metadata": {
        "id": "7xvjccbKStIg"
      },
      "source": [
        "datas[\"總樓層數\"] = datas[\"總樓層數\"].fillna('1')\n",
        "s = datas.isna().sum()\n",
        "s[s > 0].sort_values(ascending=False)"
      ],
      "execution_count": null,
      "outputs": []
    },
    {
      "cell_type": "code",
      "metadata": {
        "id": "xK6BXra_UfPZ"
      },
      "source": [
        "datas"
      ],
      "execution_count": null,
      "outputs": []
    },
    {
      "cell_type": "code",
      "metadata": {
        "id": "zrDkk7d1avQu"
      },
      "source": [
        "idx = datas.dtypes != \"object\"\n",
        "number_idx = datas.dtypes[idx].index\n",
        "number_idx"
      ],
      "execution_count": null,
      "outputs": []
    },
    {
      "cell_type": "code",
      "metadata": {
        "id": "AEf-jQ1XZ2Y0"
      },
      "source": [
        "def getskew(series):\n",
        "    return skew(series.dropna() + 1)\n",
        "skewness = (datas[number_idx].apply(getskew)\n",
        "                  .sort_values(ascending=False))\n",
        "need_saved = skewness[skewness > 1].index\n",
        "print(need_saved)\n",
        "skewness[skewness > 1]"
      ],
      "execution_count": null,
      "outputs": []
    },
    {
      "cell_type": "code",
      "metadata": {
        "id": "oB1UKtX3c_G4"
      },
      "source": [
        "def save(s):\n",
        "    lamda = boxcox_normmax(s.dropna() + 1)\n",
        "    return boxcox1p(s, lamda)\n",
        "datas[need_saved] = datas[need_saved].apply(save)\n",
        "skewness = (datas[number_idx].apply(getskew)\n",
        "                  .sort_values(ascending=False))\n",
        "skewness"
      ],
      "execution_count": null,
      "outputs": []
    },
    {
      "cell_type": "code",
      "metadata": {
        "id": "-JPjcnYJe-cK"
      },
      "source": [
        "# datas_drop = datas_drop.fillna(datas_drop.median())\n",
        "# datas_drop"
      ],
      "execution_count": null,
      "outputs": []
    },
    {
      "cell_type": "code",
      "metadata": {
        "id": "kh9BEpQEvgQp"
      },
      "source": [
        "from sklearn.preprocessing import RobustScaler\n",
        "scaler = RobustScaler()\n",
        "datas_norm = pd.DataFrame(scaler.fit_transform(datas),\n",
        "              columns=datas.columns)\n",
        "x_train = datas_norm.iloc[:len(train_df)]\n",
        "x_predict = datas_norm.iloc[len(train_df):]\n",
        "# y_train_log1p"
      ],
      "execution_count": null,
      "outputs": []
    },
    {
      "cell_type": "code",
      "metadata": {
        "id": "IMUeIp0smfLV"
      },
      "source": [
        "datas_norm.iloc[10000:]"
      ],
      "execution_count": null,
      "outputs": []
    },
    {
      "cell_type": "code",
      "metadata": {
        "id": "vBO0l6wrwgZj"
      },
      "source": [
        "# x_train: 1460 * 300\n",
        "# x_predict: 1459 * 300\n",
        "# y_train_log1p: 1460"
      ],
      "execution_count": null,
      "outputs": []
    },
    {
      "cell_type": "code",
      "metadata": {
        "id": "iKXhOIy8JG6n"
      },
      "source": [
        "from sklearn.linear_model import LassoCV, RidgeCV, ElasticNetCV\n",
        "from sklearn.linear_model import Lasso, Ridge, ElasticNet\n",
        "cv = LassoCV(cv=10)\n",
        "cv.fit(x_train, y_train_log1p)\n",
        "print(cv.alpha_)\n",
        "model = Lasso(cv.alpha_)\n",
        "model.fit(x_train, y_train_log1p)\n",
        "pre = model.predict(x_predict)\n",
        "result = pd.DataFrame({\n",
        "    \"Origin\":test_df2[\"單價元/坪\"],\n",
        "    \"Predict\":np.expm1(pre)\n",
        "})\n",
        "# result.to_csv(\"lasso.csv\", encoding=\"utf-8\", index=False)\n",
        "result['AE']= result['Origin'].sub(result['Predict']).abs()\n",
        "result['MAE']= result['Origin'].sub(result['Predict']).abs().mean()\n",
        "result\n"
      ],
      "execution_count": null,
      "outputs": []
    },
    {
      "cell_type": "code",
      "metadata": {
        "id": "ckucc-uKj9KM"
      },
      "source": [
        "np.array(test_df2[\"單價元/坪\"]).shape"
      ],
      "execution_count": null,
      "outputs": []
    },
    {
      "cell_type": "code",
      "metadata": {
        "id": "lIBOmNphkDBm"
      },
      "source": [
        "np.expm1(pre).shape"
      ],
      "execution_count": null,
      "outputs": []
    },
    {
      "cell_type": "code",
      "metadata": {
        "id": "J7YEMLJ8YcE7"
      },
      "source": [
        "from sklearn.metrics import r2_score\n",
        "\n",
        "r2_score(test_df2['單價元/坪'], np.expm1(pre))"
      ],
      "execution_count": null,
      "outputs": []
    },
    {
      "cell_type": "code",
      "metadata": {
        "id": "21cVwFM3LDXi"
      },
      "source": [
        "cv = RidgeCV(cv=10)\n",
        "cv.fit(x_train, y_train_log1p)\n",
        "print(cv.alpha_)\n",
        "model = Ridge(cv.alpha_)\n",
        "model.fit(x_train, y_train_log1p)\n",
        "pre = model.predict(x_predict)\n",
        "result = pd.DataFrame({\n",
        "    \"Origin\":test_df2[\"單價元/坪\"],\n",
        "    \"Predict\":np.expm1(pre)\n",
        "})\n",
        "# result.to_csv(\"ridge.csv\", encoding=\"utf-8\", index=False)\n",
        "result['AE']= result['Origin'].sub(result['Predict']).abs()\n",
        "result['MAE']= result['Origin'].sub(result['Predict']).abs().mean()\n",
        "result\n"
      ],
      "execution_count": null,
      "outputs": []
    },
    {
      "cell_type": "code",
      "metadata": {
        "id": "nyF4gB80gG8Z"
      },
      "source": [
        "from sklearn.metrics import r2_score\n",
        "\n",
        "r2_score(test_df2[\"單價元/坪\"], np.expm1(pre))"
      ],
      "execution_count": null,
      "outputs": []
    },
    {
      "cell_type": "code",
      "metadata": {
        "id": "TqQ5rb8cLMcP"
      },
      "source": [
        "cv = ElasticNetCV(cv=10)\n",
        "cv.fit(x_train, y_train_log1p)\n",
        "print(cv.alpha_)\n",
        "model = ElasticNet(cv.alpha_)\n",
        "model.fit(x_train, y_train_log1p)\n",
        "pre = model.predict(x_predict)\n",
        "result = pd.DataFrame({\n",
        "    \"Origin\":test_df2[\"單價元/坪\"],\n",
        "    \"Predict\":np.expm1(pre)\n",
        "})\n",
        "# result.to_csv(\"elastic.csv\", encoding=\"utf-8\", index=False)\n",
        "result['AE']= result['Origin'].sub(result['Predict']).abs()\n",
        "result['MAE']= result['Origin'].sub(result['Predict']).abs().mean()\n",
        "result"
      ],
      "execution_count": null,
      "outputs": []
    },
    {
      "cell_type": "code",
      "metadata": {
        "id": "iquCQPe7gLKN"
      },
      "source": [
        "from sklearn.metrics import r2_score\n",
        "\n",
        "r2_score(test_df2[\"單價元/坪\"], np.expm1(pre))"
      ],
      "execution_count": null,
      "outputs": []
    }
  ]
}